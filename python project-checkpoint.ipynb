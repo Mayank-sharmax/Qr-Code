{
 "cells": [
  {
   "cell_type": "code",
   "execution_count": 3,
   "id": "b55de402-8426-429a-ba81-faaa5867e6c7",
   "metadata": {},
   "outputs": [],
   "source": [
    "#python code for QR generator\n",
    "\n",
    "import pyqrcode \n",
    "from pyqrcode import QRCode \n",
    "  \n",
    "# String which represent the QR code \n",
    "s = \"https://www.instagram.com/mynk_sharmax_?igsh=MTZ6eGNoM3RpcnViYQ==\"\n",
    "  \n",
    "# Generate QR code \n",
    "url = pyqrcode.create(s) \n",
    "  \n",
    "# Create and save the png file naming \"myqr.png\" \n",
    "url.svg(\"mynk_sharmax_.svg\", scale = 8) "
   ]
  }
 ],
 "metadata": {
  "kernelspec": {
   "display_name": "Python 3 (ipykernel)",
   "language": "python",
   "name": "python3"
  },
  "language_info": {
   "codemirror_mode": {
    "name": "ipython",
    "version": 3
   },
   "file_extension": ".py",
   "mimetype": "text/x-python",
   "name": "python",
   "nbconvert_exporter": "python",
   "pygments_lexer": "ipython3",
   "version": "3.12.4"
  }
 },
 "nbformat": 4,
 "nbformat_minor": 5
}
